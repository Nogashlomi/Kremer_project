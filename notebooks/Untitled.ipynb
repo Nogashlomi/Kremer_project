{
 "cells": [
  {
   "cell_type": "code",
   "execution_count": 1,
   "id": "d403c4ef-f947-45d1-9bfe-c65b1ad6a29f",
   "metadata": {},
   "outputs": [],
   "source": [
    "from kremer_project.example import hello"
   ]
  },
  {
   "cell_type": "code",
   "execution_count": 3,
   "id": "baaee721-781c-4314-80bd-c5eb396f6fc6",
   "metadata": {},
   "outputs": [
    {
     "name": "stdout",
     "output_type": "stream",
     "text": [
      "hello\n"
     ]
    }
   ],
   "source": [
    "hello()"
   ]
  },
  {
   "cell_type": "code",
   "execution_count": 5,
   "id": "688947bb-f928-40b2-bde1-f2e66cb4b7d5",
   "metadata": {},
   "outputs": [],
   "source": [
    "import pandas as pd"
   ]
  },
  {
   "cell_type": "code",
   "execution_count": null,
   "id": "6c5b706e-9702-4e2f-8866-e99e57f1d0b8",
   "metadata": {},
   "outputs": [],
   "source": []
  }
 ],
 "metadata": {
  "kernelspec": {
   "display_name": "Python 3 (ipykernel)",
   "language": "python",
   "name": "python3"
  },
  "language_info": {
   "codemirror_mode": {
    "name": "ipython",
    "version": 3
   },
   "file_extension": ".py",
   "mimetype": "text/x-python",
   "name": "python",
   "nbconvert_exporter": "python",
   "pygments_lexer": "ipython3",
   "version": "3.12.8"
  }
 },
 "nbformat": 4,
 "nbformat_minor": 5
}
